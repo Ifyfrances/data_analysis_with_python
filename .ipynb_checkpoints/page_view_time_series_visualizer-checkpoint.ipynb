{
 "cells": [
  {
   "cell_type": "markdown",
   "id": "8a9e8192",
   "metadata": {},
   "source": [
    "### Page View Time Series Visualizer"
   ]
  },
  {
   "cell_type": "markdown",
   "id": "03d110eb",
   "metadata": {},
   "source": [
    "### Assignment\n",
    "\n",
    "For this project you will visualize time series data using a line chart, bar chart, and box plots. You will use Pandas, Matplotlib, and Seaborn to visualize a dataset containing the number of page views each day on the freeCodeCamp.org forum from 2016-05-09 to 2019-12-03. The data visualizations will help you understand the patterns in visits and identify yearly and monthly growth.\n",
    "\n",
    "Use the data to complete the following tasks:\n",
    "* Use Pandas to import the data from \"fcc-forum-pageviews.csv\". Set the index to the \"date\" column.\n",
    "* Clean the data by filtering out days when the page views were in the top 2.5% of the dataset or bottom 2.5% of the dataset.\n",
    "* Create a `draw_line_plot` function that uses Matplotlib to draw a line chart similar to \"examples/Figure_1.png\". The title should be \"Daily freeCodeCamp Forum Page Views 5/2016-12/2019\". The label on the x axis should be \"Date\" and the label on the y axis should be \"Page Views\".\n",
    "* Create a `draw_bar_plot` function that draws a bar chart similar to \"examples/Figure_2.png\". It should show average daily page views for each month grouped by year. The legend should show month labels and have a title of \"Months\". On the chart, the label on the x axis should be \"Years\" and the label on the y axis should be \"Average Page Views\".\n",
    "* Create a `draw_box_plot` function that uses Searborn to draw two adjacent box plots similar to \"examples/Figure_3.png\". These box plots should show how the values are distributed within a given year or month and how it compares over time. The title of the first chart should be \"Year-wise Box Plot (Trend)\" and the title of the second chart should be \"Month-wise Box Plot (Seasonality)\". Make sure the month labels on bottom start at \"Jan\" and the x and x axis are labeled correctly.\n",
    "\n",
    "For each chart, make sure to use a copy of the data frame. Unit tests are written for you under `test_module.py`.\n",
    "\n",
    "### Development\n",
    "\n",
    "For development, you can use `main.py` to test your functions. Click the \"run\" button and `main.py` will run.\n",
    "\n",
    "### Testing \n",
    "\n",
    "We imported the tests from `test_module.py` to `main.py` for your convenience. The tests will run automatically whenever you hit the \"run\" button.\n",
    "\n",
    "### Submitting\n",
    "\n",
    "Copy your project's URL and submit it to freeCodeCamp.\n"
   ]
  },
  {
   "cell_type": "code",
   "execution_count": 89,
   "id": "f2a3fbb5",
   "metadata": {},
   "outputs": [],
   "source": [
    "# Import modules\n",
    "\n",
    "import numpy as np\n",
    "import pandas as pd\n",
    "import seaborn as sns\n",
    "import matplotlib.pyplot as plt\n",
    "from pandas.plotting import register_matplotlib_converters\n",
    "register_matplotlib_converters()\n",
    "%matplotlib inline"
   ]
  },
  {
   "cell_type": "markdown",
   "id": "f1bde869",
   "metadata": {},
   "source": [
    "#### QUESTION 1\n",
    "- Use Pandas to import the data from \"fcc-forum-pageviews.csv\". Set the index to the \"date\" column."
   ]
  },
  {
   "cell_type": "code",
   "execution_count": 90,
   "id": "f31d47e5",
   "metadata": {},
   "outputs": [
    {
     "data": {
      "text/html": [
       "<div>\n",
       "<style scoped>\n",
       "    .dataframe tbody tr th:only-of-type {\n",
       "        vertical-align: middle;\n",
       "    }\n",
       "\n",
       "    .dataframe tbody tr th {\n",
       "        vertical-align: top;\n",
       "    }\n",
       "\n",
       "    .dataframe thead th {\n",
       "        text-align: right;\n",
       "    }\n",
       "</style>\n",
       "<table border=\"1\" class=\"dataframe\">\n",
       "  <thead>\n",
       "    <tr style=\"text-align: right;\">\n",
       "      <th></th>\n",
       "      <th>value</th>\n",
       "    </tr>\n",
       "    <tr>\n",
       "      <th>date</th>\n",
       "      <th></th>\n",
       "    </tr>\n",
       "  </thead>\n",
       "  <tbody>\n",
       "    <tr>\n",
       "      <th>2016-05-09</th>\n",
       "      <td>1201</td>\n",
       "    </tr>\n",
       "    <tr>\n",
       "      <th>2016-05-10</th>\n",
       "      <td>2329</td>\n",
       "    </tr>\n",
       "    <tr>\n",
       "      <th>2016-05-11</th>\n",
       "      <td>1716</td>\n",
       "    </tr>\n",
       "    <tr>\n",
       "      <th>2016-05-12</th>\n",
       "      <td>10539</td>\n",
       "    </tr>\n",
       "    <tr>\n",
       "      <th>2016-05-13</th>\n",
       "      <td>6933</td>\n",
       "    </tr>\n",
       "  </tbody>\n",
       "</table>\n",
       "</div>"
      ],
      "text/plain": [
       "            value\n",
       "date             \n",
       "2016-05-09   1201\n",
       "2016-05-10   2329\n",
       "2016-05-11   1716\n",
       "2016-05-12  10539\n",
       "2016-05-13   6933"
      ]
     },
     "execution_count": 90,
     "metadata": {},
     "output_type": "execute_result"
    }
   ],
   "source": [
    "# import data\n",
    "df = pd.read_csv('C:/Users/Frances-Anthony/Documents/Udacity/Freecodecamp/fcc-forum-pageviews.csv', index_col='date')\n",
    "df.head()"
   ]
  },
  {
   "cell_type": "code",
   "execution_count": 91,
   "id": "257b9206",
   "metadata": {},
   "outputs": [
    {
     "data": {
      "text/plain": [
       "(1304, 1)"
      ]
     },
     "execution_count": 91,
     "metadata": {},
     "output_type": "execute_result"
    }
   ],
   "source": [
    "df.shape"
   ]
  },
  {
   "cell_type": "code",
   "execution_count": 92,
   "id": "ce09d133",
   "metadata": {},
   "outputs": [
    {
     "data": {
      "text/plain": [
       "value    0\n",
       "dtype: int64"
      ]
     },
     "execution_count": 92,
     "metadata": {},
     "output_type": "execute_result"
    }
   ],
   "source": [
    "df.isnull().sum()"
   ]
  },
  {
   "cell_type": "code",
   "execution_count": 93,
   "id": "3c5817ee",
   "metadata": {},
   "outputs": [
    {
     "name": "stdout",
     "output_type": "stream",
     "text": [
      "<class 'pandas.core.frame.DataFrame'>\n",
      "Index: 1304 entries, 2016-05-09 to 2019-12-03\n",
      "Data columns (total 1 columns):\n",
      " #   Column  Non-Null Count  Dtype\n",
      "---  ------  --------------  -----\n",
      " 0   value   1304 non-null   int64\n",
      "dtypes: int64(1)\n",
      "memory usage: 20.4+ KB\n"
     ]
    }
   ],
   "source": [
    "df.info()"
   ]
  },
  {
   "cell_type": "code",
   "execution_count": 94,
   "id": "26cc9e5c",
   "metadata": {},
   "outputs": [
    {
     "data": {
      "text/plain": [
       "<bound method DataFrame.info of              value\n",
       "date              \n",
       "2016-05-09    1201\n",
       "2016-05-10    2329\n",
       "2016-05-11    1716\n",
       "2016-05-12   10539\n",
       "2016-05-13    6933\n",
       "...            ...\n",
       "2019-11-29  171584\n",
       "2019-11-30  141161\n",
       "2019-12-01  142918\n",
       "2019-12-02  220144\n",
       "2019-12-03  158549\n",
       "\n",
       "[1304 rows x 1 columns]>"
      ]
     },
     "execution_count": 94,
     "metadata": {},
     "output_type": "execute_result"
    }
   ],
   "source": [
    "df.info"
   ]
  },
  {
   "cell_type": "markdown",
   "id": "a9bad9f6",
   "metadata": {},
   "source": [
    "#### QUESTION 2\n",
    "- Clean the data by filtering out days when the page views were in the top 2.5% of the dataset or bottom 2.5% of the dataset.\n",
    "- In pandas `~=not, |=or, &=and`"
   ]
  },
  {
   "cell_type": "code",
   "execution_count": 95,
   "id": "a632dea2",
   "metadata": {},
   "outputs": [
    {
     "data": {
      "text/plain": [
       "value    1238\n",
       "dtype: int64"
      ]
     },
     "execution_count": 95,
     "metadata": {},
     "output_type": "execute_result"
    }
   ],
   "source": [
    "df=df.drop(df[(df['value']<df['value'].quantile(0.025)) | (df['value']>df['value'].quantile(0.975))].index)\n",
    "df.count()"
   ]
  },
  {
   "cell_type": "code",
   "execution_count": 96,
   "id": "2cf4046f",
   "metadata": {},
   "outputs": [
    {
     "data": {
      "text/plain": [
       "value    1176\n",
       "dtype: int64"
      ]
     },
     "execution_count": 96,
     "metadata": {},
     "output_type": "execute_result"
    }
   ],
   "source": [
    "df = df.drop(df[(df['value'] > df['value'].quantile(0.975)) | (df['value'] < df['value'].quantile(0.025))].index)\n",
    "df.count()"
   ]
  },
  {
   "cell_type": "markdown",
   "id": "70b7a37b",
   "metadata": {},
   "source": [
    "#### QUESTION 3\n",
    "- Create a draw_line_plot function that uses Matplotlib to draw a line chart similar to \"examples/Figure_1.png\". The title should be \"Daily freeCodeCamp Forum Page Views `5/2016-12/2019\".` The label on the x axis should be \"Date\" and the label on the y axis should be \"Page Views\"."
   ]
  },
  {
   "cell_type": "code",
   "execution_count": 97,
   "id": "15cb9678",
   "metadata": {
    "scrolled": true
   },
   "outputs": [
    {
     "data": {
      "image/png": "[encoded data removed]",
      "text/plain": [
       "<Figure size 576x216 with 1 Axes>"
      ]
     },
     "metadata": {
      "needs_background": "light"
     },
     "output_type": "display_data"
    }
   ],
   "source": [
    "plt.figure(figsize=(8, 3))\n",
    "plt.plot(df['value'], color='b', linewidth=0.8)\n",
    "plt.xlabel(\"Date\", fontsize=12, weight='bold')\n",
    "plt.ylabel(\"Page Views\", fontsize=12, weight='bold')\n",
    "plt.title(\"Daily freeCodeCamp Forum Page Views 5/2016-12/2019\", fontsize=12, weight='bold')\n",
    "plt.xticks(None);"
   ]
  },
  {
   "cell_type": "markdown",
   "id": "4d1166fb",
   "metadata": {},
   "source": [
    "#### QUESTION 4\n",
    "- Create a draw_bar_plot function that draws a bar chart. It should show average daily page views for each month grouped by year. The legend should show month labels and have a title of \"Months\". On the chart, the label on the x axis should be \"Years\" and the label on the y axis should be \"Average Page Views\"."
   ]
  },
  {
   "cell_type": "code",
   "execution_count": 98,
   "id": "76925545",
   "metadata": {},
   "outputs": [
    {
     "data": {
      "text/html": [
       "<div>\n",
       "<style scoped>\n",
       "    .dataframe tbody tr th:only-of-type {\n",
       "        vertical-align: middle;\n",
       "    }\n",
       "\n",
       "    .dataframe tbody tr th {\n",
       "        vertical-align: top;\n",
       "    }\n",
       "\n",
       "    .dataframe thead th {\n",
       "        text-align: right;\n",
       "    }\n",
       "</style>\n",
       "<table border=\"1\" class=\"dataframe\">\n",
       "  <thead>\n",
       "    <tr style=\"text-align: right;\">\n",
       "      <th></th>\n",
       "      <th>value</th>\n",
       "    </tr>\n",
       "    <tr>\n",
       "      <th>date</th>\n",
       "      <th></th>\n",
       "    </tr>\n",
       "  </thead>\n",
       "  <tbody>\n",
       "    <tr>\n",
       "      <th>2016-06-17</th>\n",
       "      <td>21691</td>\n",
       "    </tr>\n",
       "    <tr>\n",
       "      <th>2016-06-18</th>\n",
       "      <td>21681</td>\n",
       "    </tr>\n",
       "    <tr>\n",
       "      <th>2016-06-20</th>\n",
       "      <td>28508</td>\n",
       "    </tr>\n",
       "  </tbody>\n",
       "</table>\n",
       "</div>"
      ],
      "text/plain": [
       "            value\n",
       "date             \n",
       "2016-06-17  21691\n",
       "2016-06-18  21681\n",
       "2016-06-20  28508"
      ]
     },
     "execution_count": 98,
     "metadata": {},
     "output_type": "execute_result"
    }
   ],
   "source": [
    "df.head(3)"
   ]
  },
  {
   "cell_type": "code",
   "execution_count": 99,
   "id": "51ad0ca3",
   "metadata": {},
   "outputs": [
    {
     "data": {
      "text/plain": [
       "Index(['value'], dtype='object')"
      ]
     },
     "execution_count": 99,
     "metadata": {},
     "output_type": "execute_result"
    }
   ],
   "source": [
    "df.columns"
   ]
  },
  {
   "cell_type": "code",
   "execution_count": 100,
   "id": "be3fe6c2",
   "metadata": {},
   "outputs": [
    {
     "data": {
      "image/png": "[encoded data removed]",
      "text/plain": [
       "<Figure size 1080x720 with 1 Axes>"
      ]
     },
     "metadata": {
      "needs_background": "light"
     },
     "output_type": "display_data"
    }
   ],
   "source": [
    "#make a copy of dataframe\n",
    "df2 = df.copy()\n",
    "\n",
    "#extract month and year from date\n",
    "df2['year'] = pd.DatetimeIndex(df2.index).year\n",
    "df2['month'] =  pd.DatetimeIndex(df2.index).month\n",
    "\n",
    "#view data\n",
    "#df2.head()\n",
    "\n",
    "#group by year and month and calculate mean\n",
    "df2 = df2.groupby(['year', 'month'])['value'].mean()\n",
    "\n",
    "#group the months by year\n",
    "df2 = df2.unstack()\n",
    "\n",
    "#list months\n",
    "month_names=['January', 'February', 'March', 'April', 'May', 'June', 'July', \n",
    "             'August', 'September', 'October', 'November', 'December']\n",
    "\n",
    "#Draw bar plot\n",
    "#fig = df2.plot(kind = 'bar', figsize=(15, 10)).figure\n",
    "df2.plot(kind = 'bar', figsize=(15, 10))\n",
    "\n",
    "#define plot parameters\n",
    "plt.xlabel(\"Years\", fontsize=15, weight='bold')\n",
    "plt.ylabel(\"Average Page Views\", fontsize=15, weight='bold')\n",
    "plt.title(\"Months\", fontsize=15, weight='bold')\n",
    "legend = plt.legend(title='Months', fontsize = 15, labels=month_names)\n",
    "#title=legend.get_title()"
   ]
  },
  {
   "cell_type": "code",
   "execution_count": 101,
   "id": "5f6f52d3",
   "metadata": {},
   "outputs": [],
   "source": [
    "#group by year and month and calculate mean\n",
    "#df2.groupby(['year', 'month'])['value'].mean()\n",
    "#df2.unstack()"
   ]
  },
  {
   "cell_type": "markdown",
   "id": "087a85ff",
   "metadata": {},
   "source": [
    "#### Question 4\n",
    "\n",
    " - Create a draw_box_plot function that uses Searborn to draw two adjacent box plot. These box plots should show how the values are distributed within a given year or month and how it compares over time. The title of the first chart should be \"Year-wise Box Plot (Trend)\" and the title of the second chart should be \"Month-wise Box Plot (Seasonality)\". Make sure the month labels on bottom start at \"Jan\" and the x and y axis are labeled correctly."
   ]
  },
  {
   "cell_type": "code",
   "execution_count": 102,
   "id": "541501e3",
   "metadata": {},
   "outputs": [
    {
     "data": {
      "text/html": [
       "<div>\n",
       "<style scoped>\n",
       "    .dataframe tbody tr th:only-of-type {\n",
       "        vertical-align: middle;\n",
       "    }\n",
       "\n",
       "    .dataframe tbody tr th {\n",
       "        vertical-align: top;\n",
       "    }\n",
       "\n",
       "    .dataframe thead th {\n",
       "        text-align: right;\n",
       "    }\n",
       "</style>\n",
       "<table border=\"1\" class=\"dataframe\">\n",
       "  <thead>\n",
       "    <tr style=\"text-align: right;\">\n",
       "      <th></th>\n",
       "      <th>date</th>\n",
       "      <th>value</th>\n",
       "      <th>year</th>\n",
       "      <th>month</th>\n",
       "    </tr>\n",
       "  </thead>\n",
       "  <tbody>\n",
       "    <tr>\n",
       "      <th>0</th>\n",
       "      <td>2016-06-17</td>\n",
       "      <td>21691</td>\n",
       "      <td>2016</td>\n",
       "      <td>Jun</td>\n",
       "    </tr>\n",
       "    <tr>\n",
       "      <th>1</th>\n",
       "      <td>2016-06-18</td>\n",
       "      <td>21681</td>\n",
       "      <td>2016</td>\n",
       "      <td>Jun</td>\n",
       "    </tr>\n",
       "    <tr>\n",
       "      <th>2</th>\n",
       "      <td>2016-06-20</td>\n",
       "      <td>28508</td>\n",
       "      <td>2016</td>\n",
       "      <td>Jun</td>\n",
       "    </tr>\n",
       "    <tr>\n",
       "      <th>3</th>\n",
       "      <td>2016-06-21</td>\n",
       "      <td>26805</td>\n",
       "      <td>2016</td>\n",
       "      <td>Jun</td>\n",
       "    </tr>\n",
       "    <tr>\n",
       "      <th>4</th>\n",
       "      <td>2016-06-25</td>\n",
       "      <td>21923</td>\n",
       "      <td>2016</td>\n",
       "      <td>Jun</td>\n",
       "    </tr>\n",
       "  </tbody>\n",
       "</table>\n",
       "</div>"
      ],
      "text/plain": [
       "         date  value  year month\n",
       "0  2016-06-17  21691  2016   Jun\n",
       "1  2016-06-18  21681  2016   Jun\n",
       "2  2016-06-20  28508  2016   Jun\n",
       "3  2016-06-21  26805  2016   Jun\n",
       "4  2016-06-25  21923  2016   Jun"
      ]
     },
     "execution_count": 102,
     "metadata": {},
     "output_type": "execute_result"
    }
   ],
   "source": [
    "# make a copy of dataframe\n",
    "df2 = df.copy()\n",
    "\n",
    "# set new index, remove date as index\n",
    "df2.reset_index(inplace=True)\n",
    "\n",
    "# extract month and year\n",
    "df2['year']=pd.DatetimeIndex(df2[\"date\"]).year\n",
    "df2['month']=pd.DatetimeIndex(df2[\"date\"]).month\n",
    "\n",
    "# convert month to names, e.g. Jan, Feb\n",
    "import calendar\n",
    "df2['month'] = df2['month'].apply(lambda x: calendar.month_abbr[x])\n",
    "\n",
    "# print df\n",
    "df2.head()"
   ]
  },
  {
   "cell_type": "code",
   "execution_count": 103,
   "id": "88ae9ae6",
   "metadata": {},
   "outputs": [
    {
     "data": {
      "text/plain": [
       "array(['Jun', 'Jul', 'Aug', 'Sep', 'Oct', 'Nov', 'Dec', 'Jan', 'Feb',\n",
       "       'Mar', 'Apr', 'May'], dtype=object)"
      ]
     },
     "execution_count": 103,
     "metadata": {},
     "output_type": "execute_result"
    }
   ],
   "source": [
    "df2['month'].unique()"
   ]
  },
  {
   "cell_type": "code",
   "execution_count": 111,
   "id": "c17c9176",
   "metadata": {},
   "outputs": [
    {
     "data": {
      "image/png": "[encoded data removed]",
      "text/plain": [
       "<Figure size 1440x360 with 2 Axes>"
      ]
     },
     "metadata": {
      "needs_background": "light"
     },
     "output_type": "display_data"
    }
   ],
   "source": [
    "#draw two adjacent boxplot using seaborne\n",
    "#show value distributed within a given year and month, comparing over time\n",
    "\n",
    "#define plot parameters\n",
    "plt.figure(figsize = [20, 5])\n",
    "base_color = sns.color_palette()\n",
    "\n",
    "#list months\n",
    "month_names=['Jan', 'Feb', 'Mar', 'Apr', 'May', 'Jun', 'Jul', \n",
    "             'Aug', 'Sep', 'Oct', 'Nov', 'Dec']\n",
    "\n",
    "#plot one: left box plot\n",
    "plt.subplot(1, 2, 1)\n",
    "sns.boxplot(x='year', y='value', data=df2)\n",
    "plt.title(\"Year-wise Box Plot (Trend)\", fontsize=15)\n",
    "plt.ylabel(\"Page Views\", size=12)\n",
    "plt.xlabel(\"Year\", size=12);\n",
    "\n",
    "#plot two: right boxplot\n",
    "plt.subplot(1, 2, 2)\n",
    "sns.boxplot(x='month', y='value', data=df2, order=month_names)\n",
    "plt.title(\"Month-wise Box Plot (Seasonality)\", fontsize=15)\n",
    "plt.ylabel(\"Page Views\", size=12)\n",
    "plt.xlabel(\"Months\", size=12);"
   ]
  },
  {
   "cell_type": "code",
   "execution_count": null,
   "id": "d5c15619",
   "metadata": {},
   "outputs": [],
   "source": []
  }
 ],
 "metadata": {
  "kernelspec": {
   "display_name": "Python 3",
   "language": "python",
   "name": "python3"
  },
  "language_info": {
   "codemirror_mode": {
    "name": "ipython",
    "version": 3
   },
   "file_extension": ".py",
   "mimetype": "text/x-python",
   "name": "python",
   "nbconvert_exporter": "python",
   "pygments_lexer": "ipython3",
   "version": "3.8.10"
  }
 },
 "nbformat": 4,
 "nbformat_minor": 5
}
