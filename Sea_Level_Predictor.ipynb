{
 "cells": [
  {
   "cell_type": "markdown",
   "id": "0274c4ac",
   "metadata": {},
   "source": [
    "#### Sea Level Predictor"
   ]
  },
  {
   "cell_type": "markdown",
   "id": "ea7ce2f5",
   "metadata": {},
   "source": [
    "### Assignment\n",
    "\n",
    "You will anaylize a dataset of the global average sea level change since 1880. You will use the data to predict the sea level change through year 2050.\n",
    "\n",
    "Use the data to complete the following tasks:\n",
    "* Use Pandas to import the data from `epa-sea-level.csv`.\n",
    "* Use matplotlib to create a scatter plot using the \"Year\" column as the x-axis and the \"CSIRO Adjusted Sea Level\" column as the y-axix.\n",
    "* Use the `linregress` function from `scipy.stats` to get the slope and y-intercept of the line of best fit. Plot the line of best fit over the top of the scatter plot. Make the line go through the year 2050 to predict the sea level rise in 2050.\n",
    "* Plot a new line of best fit just using the data from year 2000 through the most recent year in the dataset. Make the line also go through the year 2050 to predict the sea level rise in 2050 if the rate of rise continues as it has since the year 2000.\n",
    "* The x label should be \"Year\", the y label should be \"Sea Level (inches)\", and the title should be \"Rise in Sea Level\".\n",
    "\n",
    "Unit tests are written for you under `test_module.py`.\n",
    "\n",
    "### Development\n",
    "\n",
    "For development, you can use `main.py` to test your functions. Click the \"run\" button and `main.py` will run.\n",
    "\n",
    "### Testing \n",
    "\n",
    "We imported the tests from `test_module.py` to `main.py` for your convenience. The tests will run automatically whenever you hit the \"run\" button.\n",
    "\n",
    "### Submitting\n",
    "\n",
    "Copy your project's URL and submit it to freeCodeCamp.\n",
    "\n",
    "### Data Source\n",
    "Global Average Absolute Sea Level Change, 1880-2014 from the US Environmental Protection Agency using data from CSIRO, 2015; NOAA, 2015.\n",
    "https://datahub.io/core/sea-level-rise\n"
   ]
  },
  {
   "cell_type": "code",
   "execution_count": 1,
   "id": "a9df61c8",
   "metadata": {},
   "outputs": [],
   "source": [
    "import pandas as pd\n",
    "import numpy as np\n",
    "import matplotlib.pyplot as plt\n",
    "import seaborn as sns\n",
    "from scipy import stats\n",
    "from scipy.stats import linregress\n",
    "%matplotlib inline"
   ]
  },
  {
   "cell_type": "code",
   "execution_count": 2,
   "id": "158d50d5",
   "metadata": {},
   "outputs": [
    {
     "data": {
      "text/html": [
       "<div>\n",
       "<style scoped>\n",
       "    .dataframe tbody tr th:only-of-type {\n",
       "        vertical-align: middle;\n",
       "    }\n",
       "\n",
       "    .dataframe tbody tr th {\n",
       "        vertical-align: top;\n",
       "    }\n",
       "\n",
       "    .dataframe thead th {\n",
       "        text-align: right;\n",
       "    }\n",
       "</style>\n",
       "<table border=\"1\" class=\"dataframe\">\n",
       "  <thead>\n",
       "    <tr style=\"text-align: right;\">\n",
       "      <th></th>\n",
       "      <th>Year</th>\n",
       "      <th>CSIRO Adjusted Sea Level</th>\n",
       "      <th>Lower Error Bound</th>\n",
       "      <th>Upper Error Bound</th>\n",
       "      <th>NOAA Adjusted Sea Level</th>\n",
       "    </tr>\n",
       "  </thead>\n",
       "  <tbody>\n",
       "    <tr>\n",
       "      <th>0</th>\n",
       "      <td>1880</td>\n",
       "      <td>0.000000</td>\n",
       "      <td>-0.952756</td>\n",
       "      <td>0.952756</td>\n",
       "      <td>NaN</td>\n",
       "    </tr>\n",
       "    <tr>\n",
       "      <th>1</th>\n",
       "      <td>1881</td>\n",
       "      <td>0.220472</td>\n",
       "      <td>-0.732283</td>\n",
       "      <td>1.173228</td>\n",
       "      <td>NaN</td>\n",
       "    </tr>\n",
       "    <tr>\n",
       "      <th>2</th>\n",
       "      <td>1882</td>\n",
       "      <td>-0.440945</td>\n",
       "      <td>-1.346457</td>\n",
       "      <td>0.464567</td>\n",
       "      <td>NaN</td>\n",
       "    </tr>\n",
       "    <tr>\n",
       "      <th>3</th>\n",
       "      <td>1883</td>\n",
       "      <td>-0.232283</td>\n",
       "      <td>-1.129921</td>\n",
       "      <td>0.665354</td>\n",
       "      <td>NaN</td>\n",
       "    </tr>\n",
       "    <tr>\n",
       "      <th>4</th>\n",
       "      <td>1884</td>\n",
       "      <td>0.590551</td>\n",
       "      <td>-0.283465</td>\n",
       "      <td>1.464567</td>\n",
       "      <td>NaN</td>\n",
       "    </tr>\n",
       "  </tbody>\n",
       "</table>\n",
       "</div>"
      ],
      "text/plain": [
       "   Year  CSIRO Adjusted Sea Level  Lower Error Bound  Upper Error Bound  \\\n",
       "0  1880                  0.000000          -0.952756           0.952756   \n",
       "1  1881                  0.220472          -0.732283           1.173228   \n",
       "2  1882                 -0.440945          -1.346457           0.464567   \n",
       "3  1883                 -0.232283          -1.129921           0.665354   \n",
       "4  1884                  0.590551          -0.283465           1.464567   \n",
       "\n",
       "   NOAA Adjusted Sea Level  \n",
       "0                      NaN  \n",
       "1                      NaN  \n",
       "2                      NaN  \n",
       "3                      NaN  \n",
       "4                      NaN  "
      ]
     },
     "execution_count": 2,
     "metadata": {},
     "output_type": "execute_result"
    }
   ],
   "source": [
    "df=pd.read_csv(\"C:/Users/Frances-Anthony/Documents/Udacity/Freecodecamp/epa-sea-level.csv\")\n",
    "df.head()"
   ]
  },
  {
   "cell_type": "code",
   "execution_count": 3,
   "id": "83a8fd86",
   "metadata": {
    "scrolled": false
   },
   "outputs": [
    {
     "name": "stdout",
     "output_type": "stream",
     "text": [
      "<class 'pandas.core.frame.DataFrame'>\n",
      "RangeIndex: 134 entries, 0 to 133\n",
      "Data columns (total 5 columns):\n",
      " #   Column                    Non-Null Count  Dtype  \n",
      "---  ------                    --------------  -----  \n",
      " 0   Year                      134 non-null    int64  \n",
      " 1   CSIRO Adjusted Sea Level  134 non-null    float64\n",
      " 2   Lower Error Bound         134 non-null    float64\n",
      " 3   Upper Error Bound         134 non-null    float64\n",
      " 4   NOAA Adjusted Sea Level   21 non-null     float64\n",
      "dtypes: float64(4), int64(1)\n",
      "memory usage: 5.4 KB\n"
     ]
    }
   ],
   "source": [
    "df.info()"
   ]
  },
  {
   "cell_type": "code",
   "execution_count": 4,
   "id": "2fed83d6",
   "metadata": {},
   "outputs": [
    {
     "data": {
      "text/plain": [
       "(134, 5)"
      ]
     },
     "execution_count": 4,
     "metadata": {},
     "output_type": "execute_result"
    }
   ],
   "source": [
    "df.shape"
   ]
  },
  {
   "cell_type": "code",
   "execution_count": 5,
   "id": "c4fa58a2",
   "metadata": {},
   "outputs": [
    {
     "data": {
      "text/plain": [
       "Index(['year', 'csiro_adjusted_sea_level', 'lower_error_bound',\n",
       "       'upper_error_bound', 'noaa_adjusted_sea_level'],\n",
       "      dtype='object')"
      ]
     },
     "execution_count": 5,
     "metadata": {},
     "output_type": "execute_result"
    }
   ],
   "source": [
    "df.columns = df.columns.str.replace(' ','_').str.lower()\n",
    "df.columns"
   ]
  },
  {
   "cell_type": "markdown",
   "id": "d7d6e30d",
   "metadata": {},
   "source": [
    "#### Question 1\n",
    "- Use matplotlib to create a scatter plot using the \"Year\" column as the x-axis and the \"CSIRO Adjusted Sea Level\" column as the y-axix."
   ]
  },
  {
   "cell_type": "code",
   "execution_count": 6,
   "id": "5331db28",
   "metadata": {},
   "outputs": [
    {
     "data": {
      "text/html": [
       "<div>\n",
       "<style scoped>\n",
       "    .dataframe tbody tr th:only-of-type {\n",
       "        vertical-align: middle;\n",
       "    }\n",
       "\n",
       "    .dataframe tbody tr th {\n",
       "        vertical-align: top;\n",
       "    }\n",
       "\n",
       "    .dataframe thead th {\n",
       "        text-align: right;\n",
       "    }\n",
       "</style>\n",
       "<table border=\"1\" class=\"dataframe\">\n",
       "  <thead>\n",
       "    <tr style=\"text-align: right;\">\n",
       "      <th></th>\n",
       "      <th>year</th>\n",
       "      <th>csiro_adjusted_sea_level</th>\n",
       "      <th>lower_error_bound</th>\n",
       "      <th>upper_error_bound</th>\n",
       "      <th>noaa_adjusted_sea_level</th>\n",
       "    </tr>\n",
       "  </thead>\n",
       "  <tbody>\n",
       "    <tr>\n",
       "      <th>0</th>\n",
       "      <td>1880</td>\n",
       "      <td>0.000000</td>\n",
       "      <td>-0.952756</td>\n",
       "      <td>0.952756</td>\n",
       "      <td>NaN</td>\n",
       "    </tr>\n",
       "    <tr>\n",
       "      <th>1</th>\n",
       "      <td>1881</td>\n",
       "      <td>0.220472</td>\n",
       "      <td>-0.732283</td>\n",
       "      <td>1.173228</td>\n",
       "      <td>NaN</td>\n",
       "    </tr>\n",
       "    <tr>\n",
       "      <th>2</th>\n",
       "      <td>1882</td>\n",
       "      <td>-0.440945</td>\n",
       "      <td>-1.346457</td>\n",
       "      <td>0.464567</td>\n",
       "      <td>NaN</td>\n",
       "    </tr>\n",
       "    <tr>\n",
       "      <th>3</th>\n",
       "      <td>1883</td>\n",
       "      <td>-0.232283</td>\n",
       "      <td>-1.129921</td>\n",
       "      <td>0.665354</td>\n",
       "      <td>NaN</td>\n",
       "    </tr>\n",
       "    <tr>\n",
       "      <th>4</th>\n",
       "      <td>1884</td>\n",
       "      <td>0.590551</td>\n",
       "      <td>-0.283465</td>\n",
       "      <td>1.464567</td>\n",
       "      <td>NaN</td>\n",
       "    </tr>\n",
       "  </tbody>\n",
       "</table>\n",
       "</div>"
      ],
      "text/plain": [
       "   year  csiro_adjusted_sea_level  lower_error_bound  upper_error_bound  \\\n",
       "0  1880                  0.000000          -0.952756           0.952756   \n",
       "1  1881                  0.220472          -0.732283           1.173228   \n",
       "2  1882                 -0.440945          -1.346457           0.464567   \n",
       "3  1883                 -0.232283          -1.129921           0.665354   \n",
       "4  1884                  0.590551          -0.283465           1.464567   \n",
       "\n",
       "   noaa_adjusted_sea_level  \n",
       "0                      NaN  \n",
       "1                      NaN  \n",
       "2                      NaN  \n",
       "3                      NaN  \n",
       "4                      NaN  "
      ]
     },
     "execution_count": 6,
     "metadata": {},
     "output_type": "execute_result"
    }
   ],
   "source": [
    "df.head()"
   ]
  },
  {
   "cell_type": "code",
   "execution_count": 7,
   "id": "9d3abb81",
   "metadata": {},
   "outputs": [
    {
     "data": {
      "image/png": "[encoded data removed]",
      "text/plain": [
       "<Figure size 720x576 with 1 Axes>"
      ]
     },
     "metadata": {
      "needs_background": "light"
     },
     "output_type": "display_data"
    }
   ],
   "source": [
    "plt.figure(figsize=(10,8))\n",
    "plt.scatter(x='year', y='csiro_adjusted_sea_level', data=df)\n",
    "plt.show()"
   ]
  },
  {
   "cell_type": "markdown",
   "id": "e91e3698",
   "metadata": {},
   "source": [
    "#### Question 2\n",
    " - Use the linregress function from `scipy.stats` to get the slope and y-intercept of the line of best fit. Plot the line of best fit over the top of the scatter plot. Make the line go through the year 2050 to predict the sea level rise in 2050."
   ]
  },
  {
   "cell_type": "code",
   "execution_count": 53,
   "id": "a6121aae",
   "metadata": {},
   "outputs": [],
   "source": [
    "#df.tail(5)"
   ]
  },
  {
   "cell_type": "code",
   "execution_count": 54,
   "id": "01deda65",
   "metadata": {},
   "outputs": [],
   "source": [
    "#view the unique years in the data\n",
    "#df.year.unique()"
   ]
  },
  {
   "cell_type": "code",
   "execution_count": 55,
   "id": "4f957134",
   "metadata": {},
   "outputs": [],
   "source": [
    "# calc line of best fit\n",
    "#line = linregress(df['year'], df['csiro_adjusted_sea_level'])\n",
    "#line"
   ]
  },
  {
   "cell_type": "code",
   "execution_count": 64,
   "id": "39166884",
   "metadata": {},
   "outputs": [],
   "source": [
    "#np.arange( x.min(),2050,1)"
   ]
  },
  {
   "cell_type": "code",
   "execution_count": 65,
   "id": "2b241618",
   "metadata": {},
   "outputs": [
    {
     "data": {
      "image/png": "[encoded data removed]",
      "text/plain": [
       "<Figure size 864x504 with 1 Axes>"
      ]
     },
     "metadata": {
      "needs_background": "light"
     },
     "output_type": "display_data"
    }
   ],
   "source": [
    "# Create plot with original data\n",
    "plt.figure(figsize=(12,7))\n",
    "plt.scatter(color = 'blue', x='year', y='csiro_adjusted_sea_level', data=df, label = 'adjusted sea level')\n",
    "\n",
    "# line of best fit for original data\n",
    "line_of_fit = linregress(df['year'], df['csiro_adjusted_sea_level'])\n",
    "# extend year to 2050\n",
    "x = np.arange(df['year'].min(),2050,1) \n",
    "y = x * line_of_fit.slope + line_of_fit.intercept\n",
    "plt.plot(x,y, label = 'line of best fit', color='green');\n",
    "\n",
    "# Create second line of best fit for year predicted rise in sea level up to year 2050\n",
    "year_2000_up = df[df['year'] >= 2000]\n",
    "line_of_fit = linregress(year_2000_up['year'], year_2000_up['csiro_adjusted_sea_level'])\n",
    "x = np.arange(2000,2050,1)\n",
    "y = x * line_of_fit.slope + line_of_fit.intercept\n",
    "plt.plot(x,y, label= 'predicted sea level', color='red')\n",
    "\n",
    "plt.xlabel('Year')\n",
    "plt.ylabel('Sea Level (inches)')\n",
    "plt.title('Rise in Sea Level')\n",
    "plt.legend(fontsize='medium')\n",
    "\n",
    " # Save plot\n",
    "plt.savefig('sea_level_plot.png')\n",
    "\n",
    "plt.show()"
   ]
  },
  {
   "cell_type": "code",
   "execution_count": null,
   "id": "e9ac6fd9",
   "metadata": {},
   "outputs": [],
   "source": []
  }
 ],
 "metadata": {
  "kernelspec": {
   "display_name": "Python 3",
   "language": "python",
   "name": "python3"
  },
  "language_info": {
   "codemirror_mode": {
    "name": "ipython",
    "version": 3
   },
   "file_extension": ".py",
   "mimetype": "text/x-python",
   "name": "python",
   "nbconvert_exporter": "python",
   "pygments_lexer": "ipython3",
   "version": "3.8.10"
  }
 },
 "nbformat": 4,
 "nbformat_minor": 5
}
